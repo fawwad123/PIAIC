{
 "cells": [
  {
   "cell_type": "code",
   "execution_count": 2,
   "metadata": {},
   "outputs": [],
   "source": [
    "#Import numpy\n",
    "import numpy as np\n",
    "#Import the os module, for the os.walk function\n",
    "import os \n",
    "from PIL import Image"
   ]
  },
  {
   "cell_type": "code",
   "execution_count": 3,
   "metadata": {},
   "outputs": [],
   "source": [
    "#Check the image if it is 512x512 or not\n",
    "def checkImageSize512x512(img):\n",
    "    width, height = img.size\n",
    "    if width == 512 and height == 512:\n",
    "        return 1\n",
    "    else:\n",
    "        return 0"
   ]
  },
  {
   "cell_type": "code",
   "execution_count": 4,
   "metadata": {},
   "outputs": [],
   "source": [
    "#Resize the image\n",
    "def resizeImage(image):\n",
    "    return image.resize((512,512))"
   ]
  },
  {
   "cell_type": "code",
   "execution_count": 5,
   "metadata": {},
   "outputs": [],
   "source": [
    "# Set the directory you want to start from\n",
    "rootDir = '.'\n",
    "for dirName, subdirList, fileList in os.walk(rootDir):\n",
    "    for fileName in fileList:\n",
    "        if \"Images\" in dirName:\n",
    "            if \".png\" in fileName or \".jpg\" in fileName:\n",
    "                #Open image file\n",
    "                image = Image.open(dirName+\"/\"+fileName)\n",
    "                #Check image size\n",
    "                if checkImageSize512x512(image) == 1:\n",
    "                    #save image file\n",
    "                    image.save(\"Saved Image/\"+fileName)\n",
    "                else:\n",
    "                    #Resize image\n",
    "                    image = resizeImage(image)\n",
    "                    image.save(\"Saved Image/\"+fileName)"
   ]
  },
  {
   "cell_type": "code",
   "execution_count": null,
   "metadata": {},
   "outputs": [],
   "source": []
  },
  {
   "cell_type": "code",
   "execution_count": null,
   "metadata": {},
   "outputs": [],
   "source": []
  }
 ],
 "metadata": {
  "kernelspec": {
   "display_name": "Python 3",
   "language": "python",
   "name": "python3"
  },
  "language_info": {
   "codemirror_mode": {
    "name": "ipython",
    "version": 3
   },
   "file_extension": ".py",
   "mimetype": "text/x-python",
   "name": "python",
   "nbconvert_exporter": "python",
   "pygments_lexer": "ipython3",
   "version": "3.7.3"
  }
 },
 "nbformat": 4,
 "nbformat_minor": 2
}
