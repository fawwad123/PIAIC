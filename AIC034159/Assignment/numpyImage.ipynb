{
 "cells": [
  {
   "cell_type": "code",
   "execution_count": 2,
   "metadata": {},
   "outputs": [],
   "source": [
    "#Import numpy\n",
    "import numpy as np\n",
    "#Import the os module, for the os.walk function\n",
    "import os \n",
    "#import matplotlib.image\n",
    "import matplotlib.pylab as plt"
   ]
  },
  {
   "cell_type": "code",
   "execution_count": 3,
   "metadata": {},
   "outputs": [],
   "source": [
    "dictionary = np.zeros([20, 512, 512, 3])"
   ]
  },
  {
   "cell_type": "code",
   "execution_count": 26,
   "metadata": {},
   "outputs": [],
   "source": [
    "# Set the directory you want to start from\n",
    "rootDir = '.'\n",
    "for dirName, subdirList, fileList in os.walk(rootDir):\n",
    "    for fileName in fileList:\n",
    "        index = 0\n",
    "        if \"Saved Image\" in dirName:\n",
    "            if \".png\" in fileName or \".jpg\" in fileName:\n",
    "                #Open image file\n",
    "                image = plt.imread(dirName+\"/\"+fileName)\n",
    "                for x in range(5):\n",
    "                    for y in range(5):\n",
    "                        d1, d2, d3 = image[x][y]\n",
    "                        dictionary[index][x][y] = d1,d2,d3\n",
    "        index = index + 1"
   ]
  },
  {
   "cell_type": "code",
   "execution_count": null,
   "metadata": {},
   "outputs": [],
   "source": []
  }
 ],
 "metadata": {
  "kernelspec": {
   "display_name": "Python 3",
   "language": "python",
   "name": "python3"
  },
  "language_info": {
   "codemirror_mode": {
    "name": "ipython",
    "version": 3
   },
   "file_extension": ".py",
   "mimetype": "text/x-python",
   "name": "python",
   "nbconvert_exporter": "python",
   "pygments_lexer": "ipython3",
   "version": "3.7.3"
  }
 },
 "nbformat": 4,
 "nbformat_minor": 2
}
